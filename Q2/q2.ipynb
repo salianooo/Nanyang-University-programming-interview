{
 "cells": [
  {
   "cell_type": "code",
   "execution_count": 2,
   "id": "01612407",
   "metadata": {},
   "outputs": [],
   "source": [
    "#q2(a) Four equations "
   ]
  },
  {
   "cell_type": "code",
   "execution_count": 3,
   "id": "316a55b5",
   "metadata": {},
   "outputs": [],
   "source": [
    "#dS/dt = -k1[E][S]+k2[ES]\n",
    "#dE/dt = -k1[E][S]+(k2+k3)[ES]\n",
    "#dES/dt = k1[E][S]-(k2+k3)[ES]\n",
    "#dP/dt = k3[ES]"
   ]
  },
  {
   "cell_type": "code",
   "execution_count": 4,
   "id": "1f62ab1a",
   "metadata": {},
   "outputs": [],
   "source": [
    "#q2(b) Runge-kutta method"
   ]
  },
  {
   "cell_type": "code",
   "execution_count": 5,
   "id": "c883df67",
   "metadata": {},
   "outputs": [],
   "source": [
    "import numpy as np\n",
    "import matplotlib.pyplot as plt"
   ]
  },
  {
   "cell_type": "code",
   "execution_count": 6,
   "id": "28ebc51f",
   "metadata": {},
   "outputs": [],
   "source": [
    "h = 0.1\n",
    "t = np.linspace(0, 100, 1000, dtype=np.float64)\n",
    "# create vector for concerntration\n",
    "s_ = np.linspace(0, 1000, 1000, dtype=np.float64)\n",
    "s = np.zeros(len(t), dtype=np.float64)\n",
    "e = np.zeros(len(t), dtype=np.float64)\n",
    "es = np.zeros(len(t), dtype=np.float64)\n",
    "p = np.zeros(len(t), dtype=np.float64)\n",
    "s[0] = 10\n",
    "e[0] = 1\n",
    "es[0] = 0"
   ]
  },
  {
   "cell_type": "code",
   "execution_count": 7,
   "id": "4be2e57f",
   "metadata": {},
   "outputs": [],
   "source": [
    "def S_t(e, es, s, t): \n",
    "    return -100 * e * s + 600 * es  #rate of change of species S\n",
    "\n",
    "def E_t(e, es, s, t):\n",
    "    return -100 * e * s + 750 * es #rate of change of species E\n",
    "\n",
    "def ES_t(e, es, s, t):\n",
    "    return 100 * e * s - 750 * es  #rate of change of species ES\n",
    "\n",
    "def P_t(es,t):\n",
    "    return 150 * es  #rate of change of species P"
   ]
  },
  {
   "cell_type": "code",
   "execution_count": null,
   "id": "bbb09309",
   "metadata": {},
   "outputs": [],
   "source": [
    "for i in range(len(t)-1):\n",
    "    k1 = S_t(t[i], s[i], e[i], es[i])\n",
    "    j1 = E_t(t[i], s[i], e[i], es[i])\n",
    "    l1 = ES_t(t[i], s[i], e[i], es[i])\n",
    "    k2 = S_t(t[i] + 0.5 * h, s[i] + 0.5 * h * k1, e[i] + 0.5 * h * j1, es[i] + 0.5 * h * l1)\n",
    "    j2 = E_t(t[i] + 0.5 * h, s[i] + 0.5 * h * k1, e[i] + 0.5 * h * j1, es[i] + 0.5 * h * l1)\n",
    "    l2 = ES_t(t[i] + 0.5 * h, s[i] + 0.5 * h * k1, e[i] + 0.5 * h * j1, es[i] + 0.5 * h * l1)\n",
    "    k3 = S_t(t[i] + 0.5 * h, s[i] + 0.5 * h * k2, e[i] + 0.5 * h * j2, es[i] + 0.5 * h * l2)\n",
    "    j3 = E_t(t[i] + 0.5 * h, s[i] + 0.5 * h * k2, e[i] + 0.5 * h * j2, es[i] + 0.5 * h * l2)\n",
    "    l3 = ES_t(t[i] + 0.5 * h, s[i] + 0.5 * h * k2, e[i] + 0.5 * h * j2, es[i] + 0.5 * h * l2)\n",
    "    k4 = S_t(t[i] + h, s[i] + h * k3, e[i] + h * j3, es[i] + h * l3)\n",
    "    j4 = E_t(t[i] + h, s[i] + h * k3, e[i] + h * j3, es[i] + h * l3)\n",
    "    l4 = ES_t(t[i] + h, s[i] + h * k3, e[i] + h * j3, es[i] + h * l3)\n",
    "   \n",
    "    s[i+1] = s[i] + (1/6) * (k1 + 2 * k2 + 2 * k3 + k4) * h\n",
    "    e[i+1] = e[i] + (1/6) * (j1 + 2 * j2 + 2 * j3 + j4) * h\n",
    "    es[i+1] = es[i] + (1/6) * (l1 + 2 * l2 + 2 * l3 + l4) * h\n",
    "\n",
    "\n",
    "    m1 = P_t(t[i], es[i])\n",
    "    m2 = P_t(t[i] + 0.5 * h, es[i] + 0.5 * h * m1)\n",
    "    m3 = P_t(t[i] + 0.5 * h, es[i] + 0.5 * h * m2)\n",
    "    m4 = P_t(t[i] + h, es[i] + h * m3)\n",
    "    p[i+1] = p[i] + (1/6) * (m1 + 2 * m2 + 2 * m3 + m4) * h"
   ]
  },
  {
   "cell_type": "code",
   "execution_count": 9,
   "id": "3b28cf9d",
   "metadata": {},
   "outputs": [],
   "source": [
    "#q2 (C)"
   ]
  },
  {
   "cell_type": "code",
   "execution_count": 10,
   "id": "c091ca14",
   "metadata": {},
   "outputs": [
    {
     "data": {
      "image/png": "[encoded data removed]",
      "text/plain": [
       "<Figure size 432x288 with 1 Axes>"
      ]
     },
     "metadata": {
      "needs_background": "light"
     },
     "output_type": "display_data"
    }
   ],
   "source": [
    "plt.plot(s_, p)\n",
    "plt.ylabel('Velocity')\n",
    "plt.show()"
   ]
  }
 ],
 "metadata": {
  "kernelspec": {
   "display_name": "Python 3 (ipykernel)",
   "language": "python",
   "name": "python3"
  },
  "language_info": {
   "codemirror_mode": {
    "name": "ipython",
    "version": 3
   },
   "file_extension": ".py",
   "mimetype": "text/x-python",
   "name": "python",
   "nbconvert_exporter": "python",
   "pygments_lexer": "ipython3",
   "version": "3.9.6"
  }
 },
 "nbformat": 4,
 "nbformat_minor": 5
}
